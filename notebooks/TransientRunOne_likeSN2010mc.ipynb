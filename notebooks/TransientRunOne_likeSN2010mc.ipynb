{
 "cells": [
  {
   "cell_type": "markdown",
   "metadata": {},
   "source": [
    "# TransientTunOne_LikeSN2010mc# "
   ]
  },
  {
   "cell_type": "markdown",
   "metadata": {},
   "source": [
    "**2016-04-28** - taken from TransientTest_CompareWithPanSTARRS-SN2010mc.ipynb but for running on a single Opsim run."
   ]
  },
  {
   "cell_type": "markdown",
   "metadata": {},
   "source": [
    "**2016-01-09** - push towards a figure of merit. In this case, fraction of galactic supernovae that might be discovered. Use existing diagnostic metrics for this case."
   ]
  },
  {
   "cell_type": "markdown",
   "metadata": {},
   "source": [
    "We use a \"typical\" Type 1a lightcurve (e.g. Firth et al. 2015 MNRAS 446, 3895): rising $\\alpha \\approx 2.4$, time to peak $18.98 \\pm 0.54 \\approx 19.0$ days. Decay time $\\approx 100$ days."
   ]
  },
  {
   "cell_type": "code",
   "execution_count": 1,
   "metadata": {
    "collapsed": true
   },
   "outputs": [],
   "source": [
    "%matplotlib inline"
   ]
  },
  {
   "cell_type": "code",
   "execution_count": 2,
   "metadata": {
    "collapsed": true
   },
   "outputs": [],
   "source": [
    "import time"
   ]
  },
  {
   "cell_type": "code",
   "execution_count": 3,
   "metadata": {
    "collapsed": true
   },
   "outputs": [],
   "source": [
    "# If the next cell fails, check that you ran the setup scripts for sims-maf before opening this notebook!"
   ]
  },
  {
   "cell_type": "code",
   "execution_count": 4,
   "metadata": {
    "collapsed": false
   },
   "outputs": [],
   "source": [
    "# Follow the steps of PeterY's notebook\n",
    "import numpy as np\n",
    "import matplotlib.pyplot as plt\n",
    "import healpy as hp"
   ]
  },
  {
   "cell_type": "code",
   "execution_count": 5,
   "metadata": {
    "collapsed": false
   },
   "outputs": [
    {
     "name": "stderr",
     "output_type": "stream",
     "text": [
      "WARNING: AstropyDeprecationWarning: Config parameter 'default_cosmology' in section [astropy.cosmology.core] is deprecated. Use science state astropy.cosmology.core.default_cosmology instead. [astropy.utils.state]\n"
     ]
    }
   ],
   "source": [
    "# LSST stuff\n",
    "import lsst.sims.maf.slicers as slicers\n",
    "import lsst.sims.maf.metrics as metrics\n",
    "import lsst.sims.maf.metricBundles as metricBundles\n",
    "import lsst.sims.maf.db as db"
   ]
  },
  {
   "cell_type": "code",
   "execution_count": 6,
   "metadata": {
    "collapsed": true
   },
   "outputs": [],
   "source": [
    "import os"
   ]
  },
  {
   "cell_type": "code",
   "execution_count": 7,
   "metadata": {
    "collapsed": true
   },
   "outputs": [],
   "source": [
    "from lsst.sims.maf.metrics import calibrationMetrics"
   ]
  },
  {
   "cell_type": "markdown",
   "metadata": {},
   "source": [
    "### Setting paths appropriately ###"
   ]
  },
  {
   "cell_type": "code",
   "execution_count": 8,
   "metadata": {
    "collapsed": false
   },
   "outputs": [],
   "source": [
    "# uncomment to follow the convention of the repository. \n",
    "# Note that then the outputs will be submittable to the repository. \n",
    "\n",
    "#topDir = '/Users/clarkson/Progs/Projects/lsstScratchWIC'\n",
    "#os.chdir('%s/data/metricOutputs' % (topDir))"
   ]
  },
  {
   "cell_type": "code",
   "execution_count": 9,
   "metadata": {
    "collapsed": true
   },
   "outputs": [],
   "source": [
    "# Default is to assume the databases are symlinked into the current directory.\n",
    "# opsimDir = os.getcwd()\n",
    "\n",
    "# uncomment the following to set the directory on your system where the opsim runs are stored:\n",
    "opsimDir='/Users/clarkson/Data/LSST/OpSimRuns/opsim20160411'"
   ]
  },
  {
   "cell_type": "code",
   "execution_count": 10,
   "metadata": {
    "collapsed": false
   },
   "outputs": [
    {
     "name": "stdout",
     "output_type": "stream",
     "text": [
      "/Users/clarkson/Data/LSST/OpSimRuns/opsim20160411\r\n"
     ]
    }
   ],
   "source": [
    "# Note that notebooks can be called from a directory other than the one\n",
    "# in which they are stored. I called this notebook as follows:\n",
    "\n",
    "# jupyter notebook /Users/clarkson/Progs/Projects/lsstScratchWIC/notebooks/TransientTest_CompareWithPanSTARRS-LikeSN2010mc.ipynb\n",
    "\n",
    "# However the ! pwd and os.getcwd() then return different things! Need to be careful...\n",
    "\n",
    "! pwd"
   ]
  },
  {
   "cell_type": "code",
   "execution_count": 11,
   "metadata": {
    "collapsed": true
   },
   "outputs": [],
   "source": [
    "# Output directory for intermediate products\n",
    "outDir=os.getcwd()\n"
   ]
  },
  {
   "cell_type": "code",
   "execution_count": 12,
   "metadata": {
    "collapsed": false
   },
   "outputs": [
    {
     "name": "stdout",
     "output_type": "stream",
     "text": [
      "/Users/clarkson/Data/LSST/OpSimRuns/opsim20160411\n"
     ]
    }
   ],
   "source": [
    "print outDir"
   ]
  },
  {
   "cell_type": "markdown",
   "metadata": {},
   "source": [
    "### Set parameters for the transient ###"
   ]
  },
  {
   "cell_type": "code",
   "execution_count": 13,
   "metadata": {
    "collapsed": true
   },
   "outputs": [],
   "source": [
    "# Take a look at a synthetic lightcurve set. A SN in the MW could get very bright indeed...\n",
    "\n",
    "# The way peterY's transient seems to work, the lightcurve is constructed outward\n",
    "# from the peak. So make the peaks very bright...\n",
    "peaks = {'uPeak':11, 'gPeak':9, 'rPeak':8, 'iPeak':7, 'zPeak':6,'yPeak':6}\n",
    "colors = ['b','g','r','purple','y','magenta','k']\n",
    "filterNames = ['u','g','r','i','z','y']\n",
    "\n"
   ]
  },
  {
   "cell_type": "code",
   "execution_count": 14,
   "metadata": {
    "collapsed": true
   },
   "outputs": [],
   "source": [
    "# Timing parameters of the outbursts\n",
    "riseSlope = -2.4\n",
    "# riseSlope = -0.5  # Changing riseSlope changes the faintest mag this reaches b4 peak.\n",
    "#declineSlope = 0.05  # Make this steeper for prompt emission (and to fit more tests in)\n",
    "declineSlope = 0.05  # following Ofek et al. 2013\n",
    "transDuration = 80.\n",
    "peakTime = 20."
   ]
  },
  {
   "cell_type": "markdown",
   "metadata": {},
   "source": [
    "### Taking a look at the transient lightcurve ###\n"
   ]
  },
  {
   "cell_type": "code",
   "execution_count": 15,
   "metadata": {
    "collapsed": false
   },
   "outputs": [],
   "source": [
    "transMetric = metrics.TransientMetric(riseSlope=riseSlope, declineSlope=declineSlope, \\\n",
    "                                      transDuration=transDuration, peakTime=peakTime, \\\n",
    "                                      **peaks)"
   ]
  },
  {
   "cell_type": "code",
   "execution_count": 16,
   "metadata": {
    "collapsed": false
   },
   "outputs": [
    {
     "data": {
      "image/png": "[encoded data removed]",
      "text/plain": [
       "<matplotlib.figure.Figure at 0x115293b10>"
      ]
     },
     "metadata": {},
     "output_type": "display_data"
    }
   ],
   "source": [
    "# try plotting:\n",
    "times = np.arange(1000.)\n",
    "for filterName, color in zip(filterNames,colors):\n",
    "    filters = np.array([filterName]*times.size)\n",
    "    lc = transMetric.lightCurve(times % transDuration,filters)\n",
    "    plt.plot(times,lc, color, label=filterName)\n",
    "plt.xlabel('time (days)')\n",
    "plt.ylabel('mags')\n",
    "plt.ylim([25,5])\n",
    "#plt.xlim(0, transDuration)\n",
    "plt.legend()\n",
    "plt.title('Galactic Supernova mock-up, all filters')\n",
    "plt.grid()"
   ]
  },
  {
   "cell_type": "markdown",
   "metadata": {},
   "source": [
    "## Set up metric list we want, r-only to assess cadence only. ##"
   ]
  },
  {
   "cell_type": "code",
   "execution_count": 22,
   "metadata": {
    "collapsed": false
   },
   "outputs": [
    {
     "name": "stdout",
     "output_type": "stream",
     "text": [
      "Healpix slicer using NSIDE=64, approximate resolution 54.967783 arcminutes\n"
     ]
    }
   ],
   "source": [
    "slicer = slicers.HealpixSlicer(nside=64)\n",
    "summaryMetrics = [metrics.MedianMetric()]"
   ]
  },
  {
   "cell_type": "code",
   "execution_count": 23,
   "metadata": {
    "collapsed": false
   },
   "outputs": [],
   "source": [
    "nPhaseCheck=20\n",
    "nPrePeak=3\n",
    "metricList = []\n",
    "metricAlert = metrics.TransientMetric(riseSlope=riseSlope, declineSlope=declineSlope, \\\n",
    "                                      transDuration=transDuration, peakTime=peakTime, \\\n",
    "                                      metricName='Alert, sawtooth', \\\n",
    "                                     nPhaseCheck=nPhaseCheck, **peaks)\n",
    "\n",
    "metricRise = metrics.TransientMetric(riseSlope=riseSlope, declineSlope=declineSlope, \\\n",
    "                                      transDuration=transDuration, peakTime=peakTime, \\\n",
    "                                      metricName='%i detections on rise' % (nPrePeak), \\\n",
    "                                    nPrePeak=nPrePeak, \\\n",
    "                                    nPhaseCheck=nPhaseCheck, **peaks)\n",
    "\n",
    "metricList = [metricAlert, metricRise]\n",
    "#metricList=[metricRise]"
   ]
  },
  {
   "cell_type": "markdown",
   "metadata": {},
   "source": [
    "## Setup for the single OpSim run ##"
   ]
  },
  {
   "cell_type": "code",
   "execution_count": 24,
   "metadata": {
    "collapsed": true
   },
   "outputs": [],
   "source": [
    "runName = 'astro_lsst_01_1004'"
   ]
  },
  {
   "cell_type": "code",
   "execution_count": 25,
   "metadata": {
    "collapsed": false
   },
   "outputs": [],
   "source": [
    "#sqlconstraint = 'filter = \"r\"'\n",
    "sqlconstraint = ''\n",
    "bDict={}\n",
    "for i,metric in enumerate(metricList):\n",
    "    bDict[i] = metricBundles.MetricBundle(metric, slicer, sqlconstraint, \n",
    "                                          runName=runName, summaryMetrics=summaryMetrics)"
   ]
  },
  {
   "cell_type": "code",
   "execution_count": null,
   "metadata": {
    "collapsed": false
   },
   "outputs": [],
   "source": [
    "opsdb = db.OpsimDatabase(opsimDir + '/' + runName + '_sqlite.db')\n",
    "outDir = '%s/TransientsLike2010mc_WFDPlane' % (outDir)\n",
    "resultsDb = db.ResultsDb(outDir=outDir)"
   ]
  },
  {
   "cell_type": "code",
   "execution_count": null,
   "metadata": {
    "collapsed": false
   },
   "outputs": [
    {
     "name": "stdout",
     "output_type": "stream",
     "text": [
      "Querying database with no constraint.\n"
     ]
    }
   ],
   "source": [
    "tStart = time.time()\n",
    "bgroup = metricBundles.MetricBundleGroup(bDict, opsdb, outDir=outDir, \\\n",
    "                                             resultsDb=resultsDb)\n",
    "bgroup.runAll()\n",
    "bgroup.plotAll(closefigs=False)\n",
    "tPost = time.time()\n",
    "print \"Time spent on Input run: %.3e seconds\" % (tPost - tStart)"
   ]
  },
  {
   "cell_type": "code",
   "execution_count": null,
   "metadata": {
    "collapsed": true
   },
   "outputs": [],
   "source": []
  }
 ],
 "metadata": {
  "kernelspec": {
   "display_name": "Python 2",
   "language": "python",
   "name": "python2"
  },
  "language_info": {
   "codemirror_mode": {
    "name": "ipython",
    "version": 2
   },
   "file_extension": ".py",
   "mimetype": "text/x-python",
   "name": "python",
   "nbconvert_exporter": "python",
   "pygments_lexer": "ipython2",
   "version": "2.7.11"
  }
 },
 "nbformat": 4,
 "nbformat_minor": 0
}
